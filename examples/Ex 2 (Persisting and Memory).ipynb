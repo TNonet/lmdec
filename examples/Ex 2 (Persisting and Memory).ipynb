{
 "cells": [
  {
   "cell_type": "code",
   "execution_count": 1,
   "metadata": {},
   "outputs": [],
   "source": [
    "import dask.array as da\n",
    "from lmdec.decomp import PowerMethod\n",
    "import matplotlib.pyplot as plt\n",
    "import time\n",
    "import os"
   ]
  },
  {
   "cell_type": "markdown",
   "metadata": {},
   "source": [
    "Memory Profiler is not installed with `lmdec` </br>\n",
    "https://pypi.org/project/memory-profiler/"
   ]
  },
  {
   "cell_type": "code",
   "execution_count": 2,
   "metadata": {},
   "outputs": [],
   "source": [
    "try:\n",
    "    import memory_profiler\n",
    "except ModuleNotFoundError:\n",
    "    import sys\n",
    "    !{sys.executable} -m pip install geocoder\n",
    "    import memory_profiler\n",
    "    \n",
    "from memory_profiler import memory_usage"
   ]
  },
  {
   "cell_type": "markdown",
   "metadata": {},
   "source": [
    "# Experiment 1\n",
    "\n",
    "Let:\n",
    "\n",
    "$A \\in \\mathbb{R}^{N \\times N}$\n",
    "\n",
    "We record the memory usage and time to multiply $A$ by a tall and skinny vector, $x$ with two different approaches.\n",
    "\n",
    "The first approach, using a lazy or delayed approach to generate subsections of $A$ on demand. This is a useful approach when $A$ is too large to be stored in memory. However, it is often slower.\n",
    "\n",
    "The second approach, using a persisted approach to hold $A$ in its entirety in memory. This is a useful approach when $A$ is large, but not too large to store into memory. However, this can be dangerous as it can severely slow down operations if $A$ approaches or exceeds the available memory.\n"
   ]
  },
  {
   "cell_type": "markdown",
   "metadata": {},
   "source": [
    "Here we create $A$ as an $N\\times N$ matrix."
   ]
  },
  {
   "cell_type": "code",
   "execution_count": 3,
   "metadata": {},
   "outputs": [],
   "source": [
    "N = 30000\n",
    "x = da.random.random(size=(N,10))\n",
    "i = .01\n",
    "\n",
    "def lazy_mult(x, time_tracker):\n",
    "    time_tracker['start'] = time.time()\n",
    "    array = da.random.random(size=(N,N))\n",
    "    time_tracker['array'] = time.time()\n",
    "    array.dot(x).compute() # Computes array in chunks and preforms matrix multiplication\n",
    "    time_tracker['mult'] = time.time()\n",
    "    \n",
    "def persist_mult(x, time_tracker):\n",
    "    time_tracker['start'] = time.time()\n",
    "    array = da.random.random(size=(N,N))\n",
    "    array = array.persist() # Computes Array and stores in memory\n",
    "    time_tracker['array'] = time.time()\n",
    "    array.dot(x).compute() # Reads array in chunks and preforms matrix multiplication\n",
    "    time_tracker['mult'] = time.time()\n"
   ]
  },
  {
   "cell_type": "markdown",
   "metadata": {},
   "source": [
    "We can see that A if fully created would the following size:"
   ]
  },
  {
   "cell_type": "code",
   "execution_count": 28,
   "metadata": {},
   "outputs": [
    {
     "data": {
      "text/html": [
       "<table>\n",
       "<tr>\n",
       "<td>\n",
       "<table>\n",
       "  <thead>\n",
       "    <tr><td> </td><th> Array </th><th> Chunk </th></tr>\n",
       "  </thead>\n",
       "  <tbody>\n",
       "    <tr><th> Bytes </th><td> 7.20 GB </td> <td> 112.50 MB </td></tr>\n",
       "    <tr><th> Shape </th><td> (30000, 30000) </td> <td> (3750, 3750) </td></tr>\n",
       "    <tr><th> Count </th><td> 64 Tasks </td><td> 64 Chunks </td></tr>\n",
       "    <tr><th> Type </th><td> float64 </td><td> numpy.ndarray </td></tr>\n",
       "  </tbody>\n",
       "</table>\n",
       "</td>\n",
       "<td>\n",
       "<svg width=\"170\" height=\"170\" style=\"stroke:rgb(0,0,0);stroke-width:1\" >\n",
       "\n",
       "  <!-- Horizontal lines -->\n",
       "  <line x1=\"0\" y1=\"0\" x2=\"120\" y2=\"0\" style=\"stroke-width:2\" />\n",
       "  <line x1=\"0\" y1=\"15\" x2=\"120\" y2=\"15\" />\n",
       "  <line x1=\"0\" y1=\"30\" x2=\"120\" y2=\"30\" />\n",
       "  <line x1=\"0\" y1=\"45\" x2=\"120\" y2=\"45\" />\n",
       "  <line x1=\"0\" y1=\"60\" x2=\"120\" y2=\"60\" />\n",
       "  <line x1=\"0\" y1=\"75\" x2=\"120\" y2=\"75\" />\n",
       "  <line x1=\"0\" y1=\"90\" x2=\"120\" y2=\"90\" />\n",
       "  <line x1=\"0\" y1=\"105\" x2=\"120\" y2=\"105\" />\n",
       "  <line x1=\"0\" y1=\"120\" x2=\"120\" y2=\"120\" style=\"stroke-width:2\" />\n",
       "\n",
       "  <!-- Vertical lines -->\n",
       "  <line x1=\"0\" y1=\"0\" x2=\"0\" y2=\"120\" style=\"stroke-width:2\" />\n",
       "  <line x1=\"15\" y1=\"0\" x2=\"15\" y2=\"120\" />\n",
       "  <line x1=\"30\" y1=\"0\" x2=\"30\" y2=\"120\" />\n",
       "  <line x1=\"45\" y1=\"0\" x2=\"45\" y2=\"120\" />\n",
       "  <line x1=\"60\" y1=\"0\" x2=\"60\" y2=\"120\" />\n",
       "  <line x1=\"75\" y1=\"0\" x2=\"75\" y2=\"120\" />\n",
       "  <line x1=\"90\" y1=\"0\" x2=\"90\" y2=\"120\" />\n",
       "  <line x1=\"105\" y1=\"0\" x2=\"105\" y2=\"120\" />\n",
       "  <line x1=\"120\" y1=\"0\" x2=\"120\" y2=\"120\" style=\"stroke-width:2\" />\n",
       "\n",
       "  <!-- Colored Rectangle -->\n",
       "  <polygon points=\"0.000000,0.000000 120.000000,0.000000 120.000000,120.000000 0.000000,120.000000\" style=\"fill:#ECB172A0;stroke-width:0\"/>\n",
       "\n",
       "  <!-- Text -->\n",
       "  <text x=\"60.000000\" y=\"140.000000\" font-size=\"1.0rem\" font-weight=\"100\" text-anchor=\"middle\" >30000</text>\n",
       "  <text x=\"140.000000\" y=\"60.000000\" font-size=\"1.0rem\" font-weight=\"100\" text-anchor=\"middle\" transform=\"rotate(-90,140.000000,60.000000)\">30000</text>\n",
       "</svg>\n",
       "</td>\n",
       "</tr>\n",
       "</table>"
      ],
      "text/plain": [
       "dask.array<random_sample, shape=(30000, 30000), dtype=float64, chunksize=(3750, 3750), chunktype=numpy.ndarray>"
      ]
     },
     "execution_count": 28,
     "metadata": {},
     "output_type": "execute_result"
    }
   ],
   "source": [
    "da.random.random(size=(N,N))"
   ]
  },
  {
   "cell_type": "markdown",
   "metadata": {},
   "source": [
    "Here we run and record the memory usage, events, and time."
   ]
  },
  {
   "cell_type": "code",
   "execution_count": 7,
   "metadata": {},
   "outputs": [],
   "source": [
    "lazy_time = {'offset': time.time()}\n",
    "lazy_mem = memory_usage((lazy_mult, (x, lazy_time)), interval=i)\n",
    "persist_time = {'offset': time.time()}\n",
    "persist_mem = memory_usage((persist_mult, (x, persist_time)), interval=i)"
   ]
  },
  {
   "cell_type": "markdown",
   "metadata": {},
   "source": [
    "The next two cells are plotting code. "
   ]
  },
  {
   "cell_type": "code",
   "execution_count": 8,
   "metadata": {},
   "outputs": [],
   "source": [
    "def find_closest_memory_value(mem_list, t, interval):\n",
    "    index = round(t/interval)\n",
    "    try: \n",
    "        return mem_list[index]\n",
    "    except IndexError:\n",
    "        return mem_list[-1]\n",
    "    \n",
    "def trim_memory_usage(mem_usage, time_tracker, interval):\n",
    "    delay = time_tracker['start'] - time_tracker['offset']\n",
    "    offset = round(delay/interval)\n",
    "    return mem_usage[offset: ]\n",
    "\n",
    "def relative_time_tracker(time_tracker):\n",
    "    time_tracker['mult'] -= time_tracker['start']\n",
    "    time_tracker['array'] -= time_tracker['start']\n",
    "    time_tracker['start'] = 0\n",
    "    return time_tracker\n",
    "\n",
    "lazy_mem = trim_memory_usage(lazy_mem, lazy_time, i)\n",
    "persist_mem = trim_memory_usage(persist_mem, persist_time, i)\n",
    "\n",
    "lazy_time = relative_time_tracker(lazy_time)\n",
    "persist_time = relative_time_tracker(persist_time)\n",
    "\n",
    "lazy_time_vector = [i*j for j in range(len(lazy_mem))]\n",
    "persist_time_vector = [i*j for j in range(len(persist_mem))]   "
   ]
  },
  {
   "cell_type": "code",
   "execution_count": 32,
   "metadata": {},
   "outputs": [],
   "source": [
    "lazy_mult_memory = find_closest_memory_value(lazy_mem, lazy_time['mult'], i)\n",
    "lazy_array_memory = find_closest_memory_value(lazy_mem, lazy_time['array'], i)\n",
    "\n",
    "persist_mult_memory = find_closest_memory_value(persist_mem, persist_time['mult'], i)\n",
    "persist_array_memory = find_closest_memory_value(persist_mem, persist_time['array'], i)\n",
    "\n",
    "def plt_lazy_persist():\n",
    "    plt.plot(lazy_time_vector, lazy_mem, label='lazy')\n",
    "    plt.plot(persist_time_vector, persist_mem, label ='persist')\n",
    "\n",
    "    plt.annotate('array is lazily created.',\n",
    "                 xy=(lazy_time['array'], lazy_array_memory),\n",
    "                 xytext=(lazy_time['array'], 3*lazy_array_memory),\n",
    "                 arrowprops=dict(facecolor='black', shrink=0.05),\n",
    "                 )\n",
    "\n",
    "    plt.annotate('matrix multiplication ends',\n",
    "                 xy=(lazy_time['mult'], lazy_mult_memory) ,\n",
    "                 xytext=(1 + lazy_time['mult'], lazy_mult_memory),\n",
    "                 arrowprops=dict(facecolor='black', shrink=0.05),\n",
    "                 )\n",
    "\n",
    "    plt.annotate('array is fully created.',\n",
    "                 xy=(persist_time['array'], persist_array_memory),\n",
    "                 xytext=(persist_time['array'], 1.2*persist_array_memory),\n",
    "                 arrowprops=dict(facecolor='black', shrink=0.05),\n",
    "                 )\n",
    "\n",
    "    plt.annotate('matrix multiplication ends',\n",
    "                 xy=(persist_time['mult'], persist_mult_memory),\n",
    "                 xytext=(persist_time['mult'], 1.2*persist_mult_memory),\n",
    "                 arrowprops=dict(facecolor='black', shrink=0.05),\n",
    "                 )\n",
    "    plt.ylabel(\"Memory in MegaBytes\")\n",
    "    plt.xlabel(\"Time in Seconds\")\n",
    "    plt.legend()\n",
    "    plt.show()"
   ]
  },
  {
   "cell_type": "markdown",
   "metadata": {},
   "source": [
    "There are several things to note from the following graph. These conclusions are for when $N$ is set to create an $A$ that is large (several GBs) but does not approach the memory limit of the compute.\n",
    "1. The *WHOLE* lazy operation was faster than the *WHOLE* persisted operation.\n",
    "2. The matrix multiplication of the lazy approach was much slower than the matrix multiplication of the persisted approach.\n",
    "3. The persisted approach loaded the full array into memory. (The maximum memory of the persisted approach is roughly the size of $A$.\n",
    "4. The persisted approach took significant time to create $A$ which explains why the persisted operation took longer."
   ]
  },
  {
   "cell_type": "code",
   "execution_count": 33,
   "metadata": {},
   "outputs": [
    {
     "data": {
      "image/png": "[encoded data removed]",
      "text/plain": [
       "<Figure size 432x288 with 1 Axes>"
      ]
     },
     "metadata": {
      "needs_background": "light"
     },
     "output_type": "display_data"
    }
   ],
   "source": [
    "plt_lazy_persist()"
   ]
  },
  {
   "cell_type": "markdown",
   "metadata": {},
   "source": [
    "# Experiment 2 (Power Method)"
   ]
  },
  {
   "cell_type": "markdown",
   "metadata": {},
   "source": [
    "For this second experiment we compare the speed of the PowerMethod with persisted and non-persisted arrays. It is worth noting that we set an artificial time limit of 60 seconds as randomly generated arrays have a very small eigengap ratio $\\lambda_i/\\lambda_{i+1}$ and thus the PowerMethod approach is exceedingly slow to converge."
   ]
  },
  {
   "cell_type": "markdown",
   "metadata": {},
   "source": [
    "h5py is not installed with `lmdec` </br>\n",
    "http://www.h5py.org"
   ]
  },
  {
   "cell_type": "code",
   "execution_count": 3,
   "metadata": {},
   "outputs": [],
   "source": [
    "try:\n",
    "    import h5py\n",
    "except ModuleNotFoundError:\n",
    "    import sys\n",
    "    !{sys.executable} -m pip install h5py\n",
    "    import h5py"
   ]
  },
  {
   "cell_type": "code",
   "execution_count": 50,
   "metadata": {},
   "outputs": [],
   "source": [
    "PM = PowerMethod(tol=1e-6, max_iter=2)\n",
    "\n",
    "def test_PowerMethod(N=10000,  test_file_name = 'PMtestfile.hdf5'):\n",
    "    \n",
    "    # For a realistic test we will create an array and save it to HDD\n",
    "    if os.path.exists(test_file_name):\n",
    "        raise OSError(\"test_file_name exists. Change name or delete file to run test\")\n",
    "    array = da.random.random(size=(N,N))\n",
    "    array_chunks = array.chunks\n",
    "    da.to_hdf5(test_file_name, '/x', array)\n",
    "    \n",
    "    del array\n",
    "    \n",
    "    f = h5py.File(test_file_name, 'r')\n",
    "    array = da.from_array(f['/x'], chunks=array_chunks)\n",
    "    \n",
    "    \n",
    "    lazy_mem = memory_usage((PM.svd, (array,)))\n",
    "    persist_mem = memory_usage((PM.svd, (array,), {'persist': True, 'dtype': 'float64'}))\n",
    "    \n",
    "    \n",
    "    os.remove(test_file_name)\n",
    "    \n",
    "    return lazy_mem, persist_mem"
   ]
  },
  {
   "cell_type": "code",
   "execution_count": 69,
   "metadata": {},
   "outputs": [
    {
     "name": "stdout",
     "output_type": "stream",
     "text": [
      "(30000, 20)\n"
     ]
    },
    {
     "name": "stderr",
     "output_type": "stream",
     "text": [
      "/Users/tnonet/Documents/GitHub/lmdec/lmdec/decomp/iter_methods.py:292: UserWarning: Did not converge. \n",
      "Time Usage : 45.54s of 1000s (Time Limit) \n",
      "Iteration Usage : 2 of 2 (Iteration Limit)\n",
      "  .format(self.time, self.time_limit, self.num_iter, self.max_iter))\n"
     ]
    },
    {
     "name": "stdout",
     "output_type": "stream",
     "text": [
      "(30000, 20)\n"
     ]
    },
    {
     "name": "stderr",
     "output_type": "stream",
     "text": [
      "/Users/tnonet/Documents/GitHub/lmdec/lmdec/decomp/iter_methods.py:292: UserWarning: Did not converge. \n",
      "Time Usage : 25.00s of 1000s (Time Limit) \n",
      "Iteration Usage : 2 of 2 (Iteration Limit)\n",
      "  .format(self.time, self.time_limit, self.num_iter, self.max_iter))\n"
     ]
    }
   ],
   "source": [
    "lazy, persist = test_PowerMethod(N=30000)"
   ]
  },
  {
   "cell_type": "code",
   "execution_count": 71,
   "metadata": {},
   "outputs": [
    {
     "data": {
      "image/png": "[encoded data removed]",
      "text/plain": [
       "<Figure size 432x288 with 1 Axes>"
      ]
     },
     "metadata": {
      "needs_background": "light"
     },
     "output_type": "display_data"
    }
   ],
   "source": [
    "plt.plot(lazy, label='lazy')\n",
    "plt.plot(persist, label='persist')\n",
    "plt.legend()\n",
    "plt.show()"
   ]
  },
  {
   "cell_type": "markdown",
   "metadata": {},
   "source": [
    "# Experiment 3 (Why `persist` is not default)"
   ]
  },
  {
   "cell_type": "markdown",
   "metadata": {},
   "source": [
    "A large SNP matrix might be 500,000 individuals with 100,000 SNPs. Letting the array be lazily loaded allows for a smaller computer to calculate the SVD of an array that is much larger than Memory."
   ]
  },
  {
   "cell_type": "code",
   "execution_count": 59,
   "metadata": {},
   "outputs": [
    {
     "data": {
      "text/html": [
       "<table>\n",
       "<tr>\n",
       "<td>\n",
       "<table>\n",
       "  <thead>\n",
       "    <tr><td> </td><th> Array </th><th> Chunk </th></tr>\n",
       "  </thead>\n",
       "  <tbody>\n",
       "    <tr><th> Bytes </th><td> 50.00 GB </td> <td> 16.00 MB </td></tr>\n",
       "    <tr><th> Shape </th><td> (500000, 100000) </td> <td> (4000, 4000) </td></tr>\n",
       "    <tr><th> Count </th><td> 6250 Tasks </td><td> 3125 Chunks </td></tr>\n",
       "    <tr><th> Type </th><td> uint8 </td><td> numpy.ndarray </td></tr>\n",
       "  </tbody>\n",
       "</table>\n",
       "</td>\n",
       "<td>\n",
       "<svg width=\"92\" height=\"170\" style=\"stroke:rgb(0,0,0);stroke-width:1\" >\n",
       "\n",
       "  <!-- Horizontal lines -->\n",
       "  <line x1=\"0\" y1=\"0\" x2=\"42\" y2=\"0\" style=\"stroke-width:2\" />\n",
       "  <line x1=\"0\" y1=\"0\" x2=\"42\" y2=\"0\" />\n",
       "  <line x1=\"0\" y1=\"1\" x2=\"42\" y2=\"1\" />\n",
       "  <line x1=\"0\" y1=\"2\" x2=\"42\" y2=\"2\" />\n",
       "  <line x1=\"0\" y1=\"3\" x2=\"42\" y2=\"3\" />\n",
       "  <line x1=\"0\" y1=\"4\" x2=\"42\" y2=\"4\" />\n",
       "  <line x1=\"0\" y1=\"5\" x2=\"42\" y2=\"5\" />\n",
       "  <line x1=\"0\" y1=\"6\" x2=\"42\" y2=\"6\" />\n",
       "  <line x1=\"0\" y1=\"7\" x2=\"42\" y2=\"7\" />\n",
       "  <line x1=\"0\" y1=\"8\" x2=\"42\" y2=\"8\" />\n",
       "  <line x1=\"0\" y1=\"9\" x2=\"42\" y2=\"9\" />\n",
       "  <line x1=\"0\" y1=\"10\" x2=\"42\" y2=\"10\" />\n",
       "  <line x1=\"0\" y1=\"11\" x2=\"42\" y2=\"11\" />\n",
       "  <line x1=\"0\" y1=\"12\" x2=\"42\" y2=\"12\" />\n",
       "  <line x1=\"0\" y1=\"13\" x2=\"42\" y2=\"13\" />\n",
       "  <line x1=\"0\" y1=\"14\" x2=\"42\" y2=\"14\" />\n",
       "  <line x1=\"0\" y1=\"15\" x2=\"42\" y2=\"15\" />\n",
       "  <line x1=\"0\" y1=\"16\" x2=\"42\" y2=\"16\" />\n",
       "  <line x1=\"0\" y1=\"17\" x2=\"42\" y2=\"17\" />\n",
       "  <line x1=\"0\" y1=\"18\" x2=\"42\" y2=\"18\" />\n",
       "  <line x1=\"0\" y1=\"19\" x2=\"42\" y2=\"19\" />\n",
       "  <line x1=\"0\" y1=\"20\" x2=\"42\" y2=\"20\" />\n",
       "  <line x1=\"0\" y1=\"21\" x2=\"42\" y2=\"21\" />\n",
       "  <line x1=\"0\" y1=\"22\" x2=\"42\" y2=\"22\" />\n",
       "  <line x1=\"0\" y1=\"23\" x2=\"42\" y2=\"23\" />\n",
       "  <line x1=\"0\" y1=\"24\" x2=\"42\" y2=\"24\" />\n",
       "  <line x1=\"0\" y1=\"24\" x2=\"42\" y2=\"24\" />\n",
       "  <line x1=\"0\" y1=\"25\" x2=\"42\" y2=\"25\" />\n",
       "  <line x1=\"0\" y1=\"26\" x2=\"42\" y2=\"26\" />\n",
       "  <line x1=\"0\" y1=\"27\" x2=\"42\" y2=\"27\" />\n",
       "  <line x1=\"0\" y1=\"28\" x2=\"42\" y2=\"28\" />\n",
       "  <line x1=\"0\" y1=\"29\" x2=\"42\" y2=\"29\" />\n",
       "  <line x1=\"0\" y1=\"30\" x2=\"42\" y2=\"30\" />\n",
       "  <line x1=\"0\" y1=\"31\" x2=\"42\" y2=\"31\" />\n",
       "  <line x1=\"0\" y1=\"32\" x2=\"42\" y2=\"32\" />\n",
       "  <line x1=\"0\" y1=\"33\" x2=\"42\" y2=\"33\" />\n",
       "  <line x1=\"0\" y1=\"34\" x2=\"42\" y2=\"34\" />\n",
       "  <line x1=\"0\" y1=\"35\" x2=\"42\" y2=\"35\" />\n",
       "  <line x1=\"0\" y1=\"36\" x2=\"42\" y2=\"36\" />\n",
       "  <line x1=\"0\" y1=\"37\" x2=\"42\" y2=\"37\" />\n",
       "  <line x1=\"0\" y1=\"38\" x2=\"42\" y2=\"38\" />\n",
       "  <line x1=\"0\" y1=\"39\" x2=\"42\" y2=\"39\" />\n",
       "  <line x1=\"0\" y1=\"40\" x2=\"42\" y2=\"40\" />\n",
       "  <line x1=\"0\" y1=\"41\" x2=\"42\" y2=\"41\" />\n",
       "  <line x1=\"0\" y1=\"42\" x2=\"42\" y2=\"42\" />\n",
       "  <line x1=\"0\" y1=\"43\" x2=\"42\" y2=\"43\" />\n",
       "  <line x1=\"0\" y1=\"44\" x2=\"42\" y2=\"44\" />\n",
       "  <line x1=\"0\" y1=\"45\" x2=\"42\" y2=\"45\" />\n",
       "  <line x1=\"0\" y1=\"46\" x2=\"42\" y2=\"46\" />\n",
       "  <line x1=\"0\" y1=\"47\" x2=\"42\" y2=\"47\" />\n",
       "  <line x1=\"0\" y1=\"48\" x2=\"42\" y2=\"48\" />\n",
       "  <line x1=\"0\" y1=\"48\" x2=\"42\" y2=\"48\" />\n",
       "  <line x1=\"0\" y1=\"49\" x2=\"42\" y2=\"49\" />\n",
       "  <line x1=\"0\" y1=\"50\" x2=\"42\" y2=\"50\" />\n",
       "  <line x1=\"0\" y1=\"51\" x2=\"42\" y2=\"51\" />\n",
       "  <line x1=\"0\" y1=\"52\" x2=\"42\" y2=\"52\" />\n",
       "  <line x1=\"0\" y1=\"53\" x2=\"42\" y2=\"53\" />\n",
       "  <line x1=\"0\" y1=\"54\" x2=\"42\" y2=\"54\" />\n",
       "  <line x1=\"0\" y1=\"55\" x2=\"42\" y2=\"55\" />\n",
       "  <line x1=\"0\" y1=\"56\" x2=\"42\" y2=\"56\" />\n",
       "  <line x1=\"0\" y1=\"57\" x2=\"42\" y2=\"57\" />\n",
       "  <line x1=\"0\" y1=\"58\" x2=\"42\" y2=\"58\" />\n",
       "  <line x1=\"0\" y1=\"59\" x2=\"42\" y2=\"59\" />\n",
       "  <line x1=\"0\" y1=\"60\" x2=\"42\" y2=\"60\" />\n",
       "  <line x1=\"0\" y1=\"61\" x2=\"42\" y2=\"61\" />\n",
       "  <line x1=\"0\" y1=\"62\" x2=\"42\" y2=\"62\" />\n",
       "  <line x1=\"0\" y1=\"63\" x2=\"42\" y2=\"63\" />\n",
       "  <line x1=\"0\" y1=\"64\" x2=\"42\" y2=\"64\" />\n",
       "  <line x1=\"0\" y1=\"65\" x2=\"42\" y2=\"65\" />\n",
       "  <line x1=\"0\" y1=\"66\" x2=\"42\" y2=\"66\" />\n",
       "  <line x1=\"0\" y1=\"67\" x2=\"42\" y2=\"67\" />\n",
       "  <line x1=\"0\" y1=\"68\" x2=\"42\" y2=\"68\" />\n",
       "  <line x1=\"0\" y1=\"69\" x2=\"42\" y2=\"69\" />\n",
       "  <line x1=\"0\" y1=\"70\" x2=\"42\" y2=\"70\" />\n",
       "  <line x1=\"0\" y1=\"71\" x2=\"42\" y2=\"71\" />\n",
       "  <line x1=\"0\" y1=\"72\" x2=\"42\" y2=\"72\" />\n",
       "  <line x1=\"0\" y1=\"72\" x2=\"42\" y2=\"72\" />\n",
       "  <line x1=\"0\" y1=\"73\" x2=\"42\" y2=\"73\" />\n",
       "  <line x1=\"0\" y1=\"74\" x2=\"42\" y2=\"74\" />\n",
       "  <line x1=\"0\" y1=\"75\" x2=\"42\" y2=\"75\" />\n",
       "  <line x1=\"0\" y1=\"76\" x2=\"42\" y2=\"76\" />\n",
       "  <line x1=\"0\" y1=\"77\" x2=\"42\" y2=\"77\" />\n",
       "  <line x1=\"0\" y1=\"78\" x2=\"42\" y2=\"78\" />\n",
       "  <line x1=\"0\" y1=\"79\" x2=\"42\" y2=\"79\" />\n",
       "  <line x1=\"0\" y1=\"80\" x2=\"42\" y2=\"80\" />\n",
       "  <line x1=\"0\" y1=\"81\" x2=\"42\" y2=\"81\" />\n",
       "  <line x1=\"0\" y1=\"82\" x2=\"42\" y2=\"82\" />\n",
       "  <line x1=\"0\" y1=\"83\" x2=\"42\" y2=\"83\" />\n",
       "  <line x1=\"0\" y1=\"84\" x2=\"42\" y2=\"84\" />\n",
       "  <line x1=\"0\" y1=\"85\" x2=\"42\" y2=\"85\" />\n",
       "  <line x1=\"0\" y1=\"86\" x2=\"42\" y2=\"86\" />\n",
       "  <line x1=\"0\" y1=\"87\" x2=\"42\" y2=\"87\" />\n",
       "  <line x1=\"0\" y1=\"88\" x2=\"42\" y2=\"88\" />\n",
       "  <line x1=\"0\" y1=\"89\" x2=\"42\" y2=\"89\" />\n",
       "  <line x1=\"0\" y1=\"90\" x2=\"42\" y2=\"90\" />\n",
       "  <line x1=\"0\" y1=\"91\" x2=\"42\" y2=\"91\" />\n",
       "  <line x1=\"0\" y1=\"92\" x2=\"42\" y2=\"92\" />\n",
       "  <line x1=\"0\" y1=\"93\" x2=\"42\" y2=\"93\" />\n",
       "  <line x1=\"0\" y1=\"94\" x2=\"42\" y2=\"94\" />\n",
       "  <line x1=\"0\" y1=\"95\" x2=\"42\" y2=\"95\" />\n",
       "  <line x1=\"0\" y1=\"96\" x2=\"42\" y2=\"96\" />\n",
       "  <line x1=\"0\" y1=\"96\" x2=\"42\" y2=\"96\" />\n",
       "  <line x1=\"0\" y1=\"97\" x2=\"42\" y2=\"97\" />\n",
       "  <line x1=\"0\" y1=\"98\" x2=\"42\" y2=\"98\" />\n",
       "  <line x1=\"0\" y1=\"99\" x2=\"42\" y2=\"99\" />\n",
       "  <line x1=\"0\" y1=\"100\" x2=\"42\" y2=\"100\" />\n",
       "  <line x1=\"0\" y1=\"101\" x2=\"42\" y2=\"101\" />\n",
       "  <line x1=\"0\" y1=\"102\" x2=\"42\" y2=\"102\" />\n",
       "  <line x1=\"0\" y1=\"103\" x2=\"42\" y2=\"103\" />\n",
       "  <line x1=\"0\" y1=\"104\" x2=\"42\" y2=\"104\" />\n",
       "  <line x1=\"0\" y1=\"105\" x2=\"42\" y2=\"105\" />\n",
       "  <line x1=\"0\" y1=\"106\" x2=\"42\" y2=\"106\" />\n",
       "  <line x1=\"0\" y1=\"107\" x2=\"42\" y2=\"107\" />\n",
       "  <line x1=\"0\" y1=\"108\" x2=\"42\" y2=\"108\" />\n",
       "  <line x1=\"0\" y1=\"109\" x2=\"42\" y2=\"109\" />\n",
       "  <line x1=\"0\" y1=\"110\" x2=\"42\" y2=\"110\" />\n",
       "  <line x1=\"0\" y1=\"111\" x2=\"42\" y2=\"111\" />\n",
       "  <line x1=\"0\" y1=\"112\" x2=\"42\" y2=\"112\" />\n",
       "  <line x1=\"0\" y1=\"113\" x2=\"42\" y2=\"113\" />\n",
       "  <line x1=\"0\" y1=\"114\" x2=\"42\" y2=\"114\" />\n",
       "  <line x1=\"0\" y1=\"115\" x2=\"42\" y2=\"115\" />\n",
       "  <line x1=\"0\" y1=\"116\" x2=\"42\" y2=\"116\" />\n",
       "  <line x1=\"0\" y1=\"117\" x2=\"42\" y2=\"117\" />\n",
       "  <line x1=\"0\" y1=\"118\" x2=\"42\" y2=\"118\" />\n",
       "  <line x1=\"0\" y1=\"119\" x2=\"42\" y2=\"119\" />\n",
       "  <line x1=\"0\" y1=\"120\" x2=\"42\" y2=\"120\" style=\"stroke-width:2\" />\n",
       "\n",
       "  <!-- Vertical lines -->\n",
       "  <line x1=\"0\" y1=\"0\" x2=\"0\" y2=\"120\" style=\"stroke-width:2\" />\n",
       "  <line x1=\"1\" y1=\"0\" x2=\"1\" y2=\"120\" />\n",
       "  <line x1=\"3\" y1=\"0\" x2=\"3\" y2=\"120\" />\n",
       "  <line x1=\"5\" y1=\"0\" x2=\"5\" y2=\"120\" />\n",
       "  <line x1=\"6\" y1=\"0\" x2=\"6\" y2=\"120\" />\n",
       "  <line x1=\"8\" y1=\"0\" x2=\"8\" y2=\"120\" />\n",
       "  <line x1=\"10\" y1=\"0\" x2=\"10\" y2=\"120\" />\n",
       "  <line x1=\"11\" y1=\"0\" x2=\"11\" y2=\"120\" />\n",
       "  <line x1=\"13\" y1=\"0\" x2=\"13\" y2=\"120\" />\n",
       "  <line x1=\"15\" y1=\"0\" x2=\"15\" y2=\"120\" />\n",
       "  <line x1=\"16\" y1=\"0\" x2=\"16\" y2=\"120\" />\n",
       "  <line x1=\"18\" y1=\"0\" x2=\"18\" y2=\"120\" />\n",
       "  <line x1=\"20\" y1=\"0\" x2=\"20\" y2=\"120\" />\n",
       "  <line x1=\"21\" y1=\"0\" x2=\"21\" y2=\"120\" />\n",
       "  <line x1=\"23\" y1=\"0\" x2=\"23\" y2=\"120\" />\n",
       "  <line x1=\"25\" y1=\"0\" x2=\"25\" y2=\"120\" />\n",
       "  <line x1=\"26\" y1=\"0\" x2=\"26\" y2=\"120\" />\n",
       "  <line x1=\"28\" y1=\"0\" x2=\"28\" y2=\"120\" />\n",
       "  <line x1=\"30\" y1=\"0\" x2=\"30\" y2=\"120\" />\n",
       "  <line x1=\"31\" y1=\"0\" x2=\"31\" y2=\"120\" />\n",
       "  <line x1=\"33\" y1=\"0\" x2=\"33\" y2=\"120\" />\n",
       "  <line x1=\"35\" y1=\"0\" x2=\"35\" y2=\"120\" />\n",
       "  <line x1=\"36\" y1=\"0\" x2=\"36\" y2=\"120\" />\n",
       "  <line x1=\"38\" y1=\"0\" x2=\"38\" y2=\"120\" />\n",
       "  <line x1=\"40\" y1=\"0\" x2=\"40\" y2=\"120\" />\n",
       "  <line x1=\"42\" y1=\"0\" x2=\"42\" y2=\"120\" style=\"stroke-width:2\" />\n",
       "\n",
       "  <!-- Colored Rectangle -->\n",
       "  <polygon points=\"0.000000,0.000000 42.009890,0.000000 42.009890,120.000000 0.000000,120.000000\" style=\"fill:#ECB172A0;stroke-width:0\"/>\n",
       "\n",
       "  <!-- Text -->\n",
       "  <text x=\"21.004945\" y=\"140.000000\" font-size=\"1.0rem\" font-weight=\"100\" text-anchor=\"middle\" >100000</text>\n",
       "  <text x=\"62.009890\" y=\"60.000000\" font-size=\"1.0rem\" font-weight=\"100\" text-anchor=\"middle\" transform=\"rotate(-90,62.009890,60.000000)\">500000</text>\n",
       "</svg>\n",
       "</td>\n",
       "</tr>\n",
       "</table>"
      ],
      "text/plain": [
       "dask.array<astype, shape=(500000, 100000), dtype=uint8, chunksize=(4000, 4000), chunktype=numpy.ndarray>"
      ]
     },
     "execution_count": 59,
     "metadata": {},
     "output_type": "execute_result"
    }
   ],
   "source": [
    "x = da.random.randint(0, 3, size=(500000, 100000), dtype='uint8')\n",
    "x"
   ]
  },
  {
   "cell_type": "code",
   "execution_count": 57,
   "metadata": {},
   "outputs": [],
   "source": [
    "PM = PowerMethod(tol=1e-6, max_iter=2)"
   ]
  },
  {
   "cell_type": "code",
   "execution_count": 58,
   "metadata": {},
   "outputs": [
    {
     "name": "stdout",
     "output_type": "stream",
     "text": [
      "(500000, 20)\n"
     ]
    },
    {
     "name": "stderr",
     "output_type": "stream",
     "text": [
      "/Users/tnonet/Documents/GitHub/lmdec/lmdec/decomp/iter_methods.py:292: UserWarning: Did not converge. \n",
      "Time Usage : 2187.75s of 1000s (Time Limit) \n",
      "Iteration Usage : 1 of 2 (Iteration Limit)\n",
      "  .format(self.time, self.time_limit, self.num_iter, self.max_iter))\n"
     ]
    }
   ],
   "source": [
    "U, S, V = PM.svd(x)"
   ]
  }
 ],
 "metadata": {
  "kernelspec": {
   "display_name": "Python 3",
   "language": "python",
   "name": "python3"
  },
  "language_info": {
   "codemirror_mode": {
    "name": "ipython",
    "version": 3
   },
   "file_extension": ".py",
   "mimetype": "text/x-python",
   "name": "python",
   "nbconvert_exporter": "python",
   "pygments_lexer": "ipython3",
   "version": "3.7.3"
  },
  "pycharm": {
   "stem_cell": {
    "cell_type": "raw",
    "source": [],
    "metadata": {
     "collapsed": false
    }
   }
  }
 },
 "nbformat": 4,
 "nbformat_minor": 4
}