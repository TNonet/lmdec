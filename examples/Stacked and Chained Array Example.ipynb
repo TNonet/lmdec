{
 "cells": [
  {
   "cell_type": "code",
   "execution_count": 1,
   "metadata": {},
   "outputs": [],
   "source": [
    "import dask.array as da\n",
    "import numpy as np\n",
    "\n",
    "from lmdec.decomp.utils import make_snp_array\n",
    "from lmdec.array.io import save_array, load_array_from_disk"
   ]
  },
  {
   "cell_type": "markdown",
   "metadata": {},
   "source": [
    "# Creating fake SNP Data"
   ]
  },
  {
   "cell_type": "code",
   "execution_count": 2,
   "metadata": {},
   "outputs": [],
   "source": [
    "def random_array_with_nan(size= (10000,8000), max_value=3, density=.001):\n",
    "    min_value = 0\n",
    "    array = max_value*da.random.random(size=size)\n",
    "    \n",
    "    threshold = max_value*(1-density)\n",
    "\n",
    "    \n",
    "    array[array > threshold] = float('nan')\n",
    "    return array\n",
    "\n",
    "def float_to_int_array(array):\n",
    "    return da.trunc(array)"
   ]
  },
  {
   "cell_type": "markdown",
   "metadata": {},
   "source": [
    "## Visualization Example\n",
    "\n",
    "The following is a toy example to show that a *snp-like* array is generated.\n",
    "\n",
    "*snp-like* refers to an array drawn from \\{0, 1, 2, NaN} where NaN values have density specified"
   ]
  },
  {
   "cell_type": "code",
   "execution_count": 3,
   "metadata": {},
   "outputs": [
    {
     "data": {
      "text/plain": [
       "array([[ 2.,  1.,  0.,  1.,  1.,  2.,  0.,  0.,  0.,  0.],\n",
       "       [ 2.,  1., nan,  1., nan,  1.,  0., nan,  1.,  1.],\n",
       "       [nan,  1.,  0.,  1.,  0.,  1.,  0.,  0.,  0.,  0.],\n",
       "       [ 0.,  1.,  1.,  1.,  2.,  1.,  1.,  0.,  1.,  2.],\n",
       "       [ 0.,  2.,  0., nan, nan,  0., nan,  0.,  1., nan],\n",
       "       [ 0., nan,  1.,  0.,  0.,  1.,  2.,  1., nan,  1.],\n",
       "       [ 0., nan,  0.,  2., nan,  1.,  0., nan,  0.,  0.],\n",
       "       [nan,  0.,  0.,  1.,  0.,  1.,  1.,  0.,  2.,  2.],\n",
       "       [ 1.,  1.,  1.,  2., nan,  1.,  1., nan,  1.,  0.],\n",
       "       [ 1.,  0.,  0.,  1.,  1., nan,  2.,  1.,  1., nan]])"
      ]
     },
     "execution_count": 3,
     "metadata": {},
     "output_type": "execute_result"
    }
   ],
   "source": [
    "array = random_array_with_nan((10, 10), density=.25)\n",
    "array = float_to_int_array(array)\n",
    "array.compute()"
   ]
  },
  {
   "cell_type": "markdown",
   "metadata": {},
   "source": [
    "# Example\n",
    "\n",
    "Creating a large array that has NaNs"
   ]
  },
  {
   "cell_type": "code",
   "execution_count": 4,
   "metadata": {},
   "outputs": [
    {
     "name": "stdout",
     "output_type": "stream",
     "text": [
      "There should be 2000.0000000000002 NaN values\n"
     ]
    },
    {
     "data": {
      "text/html": [
       "<table>\n",
       "<tr>\n",
       "<td>\n",
       "<table>\n",
       "  <thead>\n",
       "    <tr><td> </td><th> Array </th><th> Chunk </th></tr>\n",
       "  </thead>\n",
       "  <tbody>\n",
       "    <tr><th> Bytes </th><td> 1.60 GB </td> <td> 80.00 MB </td></tr>\n",
       "    <tr><th> Shape </th><td> (20000, 10000) </td> <td> (4000, 2500) </td></tr>\n",
       "    <tr><th> Count </th><td> 100 Tasks </td><td> 20 Chunks </td></tr>\n",
       "    <tr><th> Type </th><td> float64 </td><td> numpy.ndarray </td></tr>\n",
       "  </tbody>\n",
       "</table>\n",
       "</td>\n",
       "<td>\n",
       "<svg width=\"110\" height=\"170\" style=\"stroke:rgb(0,0,0);stroke-width:1\" >\n",
       "\n",
       "  <!-- Horizontal lines -->\n",
       "  <line x1=\"0\" y1=\"0\" x2=\"60\" y2=\"0\" style=\"stroke-width:2\" />\n",
       "  <line x1=\"0\" y1=\"24\" x2=\"60\" y2=\"24\" />\n",
       "  <line x1=\"0\" y1=\"48\" x2=\"60\" y2=\"48\" />\n",
       "  <line x1=\"0\" y1=\"72\" x2=\"60\" y2=\"72\" />\n",
       "  <line x1=\"0\" y1=\"96\" x2=\"60\" y2=\"96\" />\n",
       "  <line x1=\"0\" y1=\"120\" x2=\"60\" y2=\"120\" style=\"stroke-width:2\" />\n",
       "\n",
       "  <!-- Vertical lines -->\n",
       "  <line x1=\"0\" y1=\"0\" x2=\"0\" y2=\"120\" style=\"stroke-width:2\" />\n",
       "  <line x1=\"15\" y1=\"0\" x2=\"15\" y2=\"120\" />\n",
       "  <line x1=\"30\" y1=\"0\" x2=\"30\" y2=\"120\" />\n",
       "  <line x1=\"45\" y1=\"0\" x2=\"45\" y2=\"120\" />\n",
       "  <line x1=\"60\" y1=\"0\" x2=\"60\" y2=\"120\" style=\"stroke-width:2\" />\n",
       "\n",
       "  <!-- Colored Rectangle -->\n",
       "  <polygon points=\"0.000000,0.000000 60.000000,0.000000 60.000000,120.000000 0.000000,120.000000\" style=\"fill:#ECB172A0;stroke-width:0\"/>\n",
       "\n",
       "  <!-- Text -->\n",
       "  <text x=\"30.000000\" y=\"140.000000\" font-size=\"1.0rem\" font-weight=\"100\" text-anchor=\"middle\" >10000</text>\n",
       "  <text x=\"80.000000\" y=\"60.000000\" font-size=\"1.0rem\" font-weight=\"100\" text-anchor=\"middle\" transform=\"rotate(-90,80.000000,60.000000)\">20000</text>\n",
       "</svg>\n",
       "</td>\n",
       "</tr>\n",
       "</table>"
      ],
      "text/plain": [
       "dask.array<trunc, shape=(20000, 10000), dtype=float64, chunksize=(4000, 2500), chunktype=numpy.ndarray>"
      ]
     },
     "execution_count": 4,
     "metadata": {},
     "output_type": "execute_result"
    }
   ],
   "source": [
    "N, P = 20000, 10000\n",
    "density = .00001\n",
    "print(f'There should be {N*P*density} NaN values')\n",
    "array = random_array_with_nan((N, P), density=density)\n",
    "array = float_to_int_array(array)\n",
    "array"
   ]
  },
  {
   "cell_type": "markdown",
   "metadata": {},
   "source": [
    "Create a scaled and centered array"
   ]
  },
  {
   "cell_type": "code",
   "execution_count": 5,
   "metadata": {},
   "outputs": [],
   "source": [
    "snp_array = make_snp_array(array, mean=True, std=True, std_method='norm')"
   ]
  },
  {
   "cell_type": "markdown",
   "metadata": {},
   "source": [
    "Columns have 0 mean"
   ]
  },
  {
   "cell_type": "code",
   "execution_count": 6,
   "metadata": {},
   "outputs": [
    {
     "data": {
      "text/plain": [
       "array([-5.92415006e-17,  7.30171479e-16, -6.29718500e-17,  7.73603404e-16,\n",
       "       -7.14095449e-17, -4.42668124e-16, -5.92947913e-16, -3.53672647e-16,\n",
       "        4.90274488e-16,  1.41753276e-16])"
      ]
     },
     "execution_count": 6,
     "metadata": {},
     "output_type": "execute_result"
    }
   ],
   "source": [
    "snp_array[:, 0:10].mean(axis=0).compute()"
   ]
  },
  {
   "cell_type": "markdown",
   "metadata": {},
   "source": [
    "Columns have unit STD"
   ]
  },
  {
   "cell_type": "code",
   "execution_count": 7,
   "metadata": {},
   "outputs": [
    {
     "data": {
      "text/plain": [
       "array([1.      , 0.99995 , 1.      , 1.      , 1.      , 0.999975,\n",
       "       0.999975, 1.      , 1.      , 1.      ])"
      ]
     },
     "execution_count": 7,
     "metadata": {},
     "output_type": "execute_result"
    }
   ],
   "source": [
    "snp_array[:, 0:10].std(axis=0).compute()"
   ]
  },
  {
   "cell_type": "markdown",
   "metadata": {},
   "source": [
    "# Memory Usage"
   ]
  },
  {
   "cell_type": "markdown",
   "metadata": {},
   "source": [
    "`snp_array` is stored in a very structured format which is optimized for matrix multiplication and memory cost.\n",
    "\n",
    "Essentially, `snp_array` is stored as a \"list\" of the following arrays:\n",
    "1. SNP - An array of size (N, P) with elements consisting only of {0, 1, 2} stored as 1 byte integers. All NaN values are replaced with 0.\n",
    "2. MASK - A sparse array of size (N, P) that has the same shape as SNP, but only has values where the original array had NaN values. Therefore, MASK can hold the non-integer imputed values efficiently and allow SNP to store the rest of the data efficiently.\n",
    "3. U - An array of size (P,) (The mean of each column, computed from the original array ignoring the NaN values).\n",
    "4. D - An array of size (P,) (The std of each column, computed from the original array ignoring the NaN values).\n",
    "\n",
    "Then `snp_array` refers to \n",
    "\n",
    "$$(SNP + MASK - U)Inv(D)$$\n",
    "\n",
    "**NOTE** However, this expression which defined `snp_array` is never executed during matrix multiplication, and should never be executed unless absolutely necessary! It will be tremendously slow and costly.\n",
    "\n",
    "## Examine the structure of $(SNP + MASK - U)Inv(D)$\n",
    "\n",
    "If we look just at the expressing:\n",
    "$$(SNP + MASK)$$\n",
    "When computed, an array of floats would be created. All NaN values from the original array were replaced with 0 in $SNP$ and a value at the corresponding location in $MASK$ was imputed as the mean of each column. Therefore, $(SNP + MASK)$ will have all non NaN values from the original array and any NaN values replaced with their imputed values resulting in the imputed matrix.\n",
    "\n",
    "If we look at:\n",
    "$$((SNP + MASK) - U)$$\n",
    "We have the imputed matrix on the left in $(SNP + MASK)$. This imputed matrix is then centered by $U$ which will subtract the mean from each column.\n",
    "\n",
    "If we look at the full array:\n",
    "$$(SNP + MASK - U)Inv(D)$$\n",
    "We have the imputed then 0-centered matrix on the left in $(SNP + MASK - U)$. This 0-centered imputed matrix is scaled to have a unit STD for each column.\n",
    "\n",
    "The memory cost of storing these separate arrays is almost entirely dominated by storing $SNP$, which can now be stored as an array of {0, 1, 2} values instead of an array of floats (NaN is a float). \n",
    "\n",
    "In addition, preforming a matrix multiplication with array, `x` is still incredibly fast due to the structure.\n",
    "$z = (SNP + MASK - U)Inv(D)x$ <br>\n",
    "$y = Inv(D)x$ <br>\n",
    "$z = SNPy + MASKy - Uy$\n",
    "\n",
    "\n"
   ]
  },
  {
   "cell_type": "markdown",
   "metadata": {},
   "source": [
    "# To confirm this structure lets view the underlying arrays of `snp_array`"
   ]
  },
  {
   "cell_type": "markdown",
   "metadata": {},
   "source": [
    "If we look at the underlying arrays we see that `snp_array` is a Chained Array with two sub arrays"
   ]
  },
  {
   "cell_type": "code",
   "execution_count": 27,
   "metadata": {},
   "outputs": [
    {
     "name": "stdout",
     "output_type": "stream",
     "text": [
      "<class 'lmdec.array.chained.ChainedArray'>\n",
      "2\n"
     ]
    }
   ],
   "source": [
    "print(type(snp_array)) \n",
    "print(len(list(snp_array.arrays))) # Look at the sub arrays that make up `snp_array`"
   ]
  },
  {
   "cell_type": "markdown",
   "metadata": {},
   "source": [
    "Looking at the last item, we see it is a (P, ) array that refers to D, or the column scaling"
   ]
  },
  {
   "cell_type": "code",
   "execution_count": 62,
   "metadata": {},
   "outputs": [
    {
     "data": {
      "text/html": [
       "<table>\n",
       "<tr>\n",
       "<td>\n",
       "<table>\n",
       "  <thead>\n",
       "    <tr><td> </td><th> Array </th><th> Chunk </th></tr>\n",
       "  </thead>\n",
       "  <tbody>\n",
       "    <tr><th> Bytes </th><td> 80.00 kB </td> <td> 20.00 kB </td></tr>\n",
       "    <tr><th> Shape </th><td> (10000,) </td> <td> (2500,) </td></tr>\n",
       "    <tr><th> Count </th><td> 4 Tasks </td><td> 4 Chunks </td></tr>\n",
       "    <tr><th> Type </th><td> float64 </td><td> numpy.ndarray </td></tr>\n",
       "  </tbody>\n",
       "</table>\n",
       "</td>\n",
       "<td>\n",
       "<svg width=\"170\" height=\"75\" style=\"stroke:rgb(0,0,0);stroke-width:1\" >\n",
       "\n",
       "  <!-- Horizontal lines -->\n",
       "  <line x1=\"0\" y1=\"0\" x2=\"120\" y2=\"0\" style=\"stroke-width:2\" />\n",
       "  <line x1=\"0\" y1=\"25\" x2=\"120\" y2=\"25\" style=\"stroke-width:2\" />\n",
       "\n",
       "  <!-- Vertical lines -->\n",
       "  <line x1=\"0\" y1=\"0\" x2=\"0\" y2=\"25\" style=\"stroke-width:2\" />\n",
       "  <line x1=\"30\" y1=\"0\" x2=\"30\" y2=\"25\" />\n",
       "  <line x1=\"60\" y1=\"0\" x2=\"60\" y2=\"25\" />\n",
       "  <line x1=\"90\" y1=\"0\" x2=\"90\" y2=\"25\" />\n",
       "  <line x1=\"120\" y1=\"0\" x2=\"120\" y2=\"25\" style=\"stroke-width:2\" />\n",
       "\n",
       "  <!-- Colored Rectangle -->\n",
       "  <polygon points=\"0.000000,0.000000 120.000000,0.000000 120.000000,25.412617 0.000000,25.412617\" style=\"fill:#ECB172A0;stroke-width:0\"/>\n",
       "\n",
       "  <!-- Text -->\n",
       "  <text x=\"60.000000\" y=\"45.412617\" font-size=\"1.0rem\" font-weight=\"100\" text-anchor=\"middle\" >10000</text>\n",
       "  <text x=\"140.000000\" y=\"12.706308\" font-size=\"1.0rem\" font-weight=\"100\" text-anchor=\"middle\" transform=\"rotate(0,140.000000,12.706308)\">1</text>\n",
       "</svg>\n",
       "</td>\n",
       "</tr>\n",
       "</table>"
      ],
      "text/plain": [
       "dask.array<truediv, shape=(10000,), dtype=float64, chunksize=(2500,), chunktype=numpy.ndarray>"
      ]
     },
     "execution_count": 62,
     "metadata": {},
     "output_type": "execute_result"
    }
   ],
   "source": [
    "list(snp_array.arrays)[1]"
   ]
  },
  {
   "cell_type": "markdown",
   "metadata": {},
   "source": [
    "Looking at the first item, we see it is a (N, P) StackedArray that refers to $(SNP + MASK - U)$, or the centered masked array."
   ]
  },
  {
   "cell_type": "code",
   "execution_count": 32,
   "metadata": {},
   "outputs": [
    {
     "name": "stdout",
     "output_type": "stream",
     "text": [
      "<class 'lmdec.array.stacked.StackedArray'>\n",
      "[StackedArray(dask.array<rechunk-merge, shape=(20000, 10000), dtype=int8, chunksize=(12000, 7500), chunktype=numpy.ndarray>\n",
      "             dask.array<array, shape=(20000, 10000), dtype=float64, chunksize=(20000, 10000), chunktype=sparse.COO>), dask.array<neg, shape=(10000,), dtype=float64, chunksize=(2500,), chunktype=numpy.ndarray>]\n"
     ]
    }
   ],
   "source": [
    "snp_mask_u = list(snp_array.arrays)[0]\n",
    "print(type(snp_mask_u))\n",
    "print(list(snp_mask_u.arrays))"
   ]
  },
  {
   "cell_type": "markdown",
   "metadata": {},
   "source": [
    "`snp_mask_u` is a StackedArray of two sub-arrays and not three as it is treated like $((SNP + MASK) - U)$. Where $(SNP + MASK)$ is its own StackedArray. Therefore, if we look at the last sub_array of `snp_mask_u`, we should find $U$."
   ]
  },
  {
   "cell_type": "code",
   "execution_count": 63,
   "metadata": {},
   "outputs": [
    {
     "name": "stdout",
     "output_type": "stream",
     "text": [
      "<class 'dask.array.core.Array'>\n"
     ]
    },
    {
     "data": {
      "text/html": [
       "<table>\n",
       "<tr>\n",
       "<td>\n",
       "<table>\n",
       "  <thead>\n",
       "    <tr><td> </td><th> Array </th><th> Chunk </th></tr>\n",
       "  </thead>\n",
       "  <tbody>\n",
       "    <tr><th> Bytes </th><td> 80.00 kB </td> <td> 20.00 kB </td></tr>\n",
       "    <tr><th> Shape </th><td> (10000,) </td> <td> (2500,) </td></tr>\n",
       "    <tr><th> Count </th><td> 4 Tasks </td><td> 4 Chunks </td></tr>\n",
       "    <tr><th> Type </th><td> float64 </td><td> numpy.ndarray </td></tr>\n",
       "  </tbody>\n",
       "</table>\n",
       "</td>\n",
       "<td>\n",
       "<svg width=\"170\" height=\"75\" style=\"stroke:rgb(0,0,0);stroke-width:1\" >\n",
       "\n",
       "  <!-- Horizontal lines -->\n",
       "  <line x1=\"0\" y1=\"0\" x2=\"120\" y2=\"0\" style=\"stroke-width:2\" />\n",
       "  <line x1=\"0\" y1=\"25\" x2=\"120\" y2=\"25\" style=\"stroke-width:2\" />\n",
       "\n",
       "  <!-- Vertical lines -->\n",
       "  <line x1=\"0\" y1=\"0\" x2=\"0\" y2=\"25\" style=\"stroke-width:2\" />\n",
       "  <line x1=\"30\" y1=\"0\" x2=\"30\" y2=\"25\" />\n",
       "  <line x1=\"60\" y1=\"0\" x2=\"60\" y2=\"25\" />\n",
       "  <line x1=\"90\" y1=\"0\" x2=\"90\" y2=\"25\" />\n",
       "  <line x1=\"120\" y1=\"0\" x2=\"120\" y2=\"25\" style=\"stroke-width:2\" />\n",
       "\n",
       "  <!-- Colored Rectangle -->\n",
       "  <polygon points=\"0.000000,0.000000 120.000000,0.000000 120.000000,25.412617 0.000000,25.412617\" style=\"fill:#ECB172A0;stroke-width:0\"/>\n",
       "\n",
       "  <!-- Text -->\n",
       "  <text x=\"60.000000\" y=\"45.412617\" font-size=\"1.0rem\" font-weight=\"100\" text-anchor=\"middle\" >10000</text>\n",
       "  <text x=\"140.000000\" y=\"12.706308\" font-size=\"1.0rem\" font-weight=\"100\" text-anchor=\"middle\" transform=\"rotate(0,140.000000,12.706308)\">1</text>\n",
       "</svg>\n",
       "</td>\n",
       "</tr>\n",
       "</table>"
      ],
      "text/plain": [
       "dask.array<neg, shape=(10000,), dtype=float64, chunksize=(2500,), chunktype=numpy.ndarray>"
      ]
     },
     "execution_count": 63,
     "metadata": {},
     "output_type": "execute_result"
    }
   ],
   "source": [
    "u = list(snp_mask_u.arrays)[1]\n",
    "print(type(u))\n",
    "u"
   ]
  },
  {
   "cell_type": "markdown",
   "metadata": {},
   "source": [
    "Therefore, if we look at the first sub_array of `snp_mask_u`, we should find $(SNP + MASK)$."
   ]
  },
  {
   "cell_type": "code",
   "execution_count": 36,
   "metadata": {},
   "outputs": [
    {
     "name": "stdout",
     "output_type": "stream",
     "text": [
      "<class 'lmdec.array.stacked.StackedArray'>\n",
      "[dask.array<rechunk-merge, shape=(20000, 10000), dtype=int8, chunksize=(12000, 7500), chunktype=numpy.ndarray>, dask.array<array, shape=(20000, 10000), dtype=float64, chunksize=(20000, 10000), chunktype=sparse.COO>]\n"
     ]
    }
   ],
   "source": [
    "snp_mask = list(snp_mask_u.arrays)[0]\n",
    "print(type(snp_mask))\n",
    "print(list(snp_mask.arrays))"
   ]
  },
  {
   "cell_type": "markdown",
   "metadata": {},
   "source": [
    "Splitting up `snp_mask` into $SNP$ and $MASK$ is the last set"
   ]
  },
  {
   "cell_type": "code",
   "execution_count": 37,
   "metadata": {},
   "outputs": [],
   "source": [
    "snp, mask = list(snp_mask.arrays)"
   ]
  },
  {
   "cell_type": "markdown",
   "metadata": {},
   "source": [
    "Notice that `snp` is a 'int8' array and thus is stored very efficiently. While `mask` is a 'float64' but its chunk type is sparse.COO."
   ]
  },
  {
   "cell_type": "code",
   "execution_count": 38,
   "metadata": {},
   "outputs": [
    {
     "data": {
      "text/html": [
       "<table>\n",
       "<tr>\n",
       "<td>\n",
       "<table>\n",
       "  <thead>\n",
       "    <tr><td> </td><th> Array </th><th> Chunk </th></tr>\n",
       "  </thead>\n",
       "  <tbody>\n",
       "    <tr><th> Bytes </th><td> 200.00 MB </td> <td> 90.00 MB </td></tr>\n",
       "    <tr><th> Shape </th><td> (20000, 10000) </td> <td> (12000, 7500) </td></tr>\n",
       "    <tr><th> Count </th><td> 4 Tasks </td><td> 4 Chunks </td></tr>\n",
       "    <tr><th> Type </th><td> int8 </td><td> numpy.ndarray </td></tr>\n",
       "  </tbody>\n",
       "</table>\n",
       "</td>\n",
       "<td>\n",
       "<svg width=\"110\" height=\"170\" style=\"stroke:rgb(0,0,0);stroke-width:1\" >\n",
       "\n",
       "  <!-- Horizontal lines -->\n",
       "  <line x1=\"0\" y1=\"0\" x2=\"60\" y2=\"0\" style=\"stroke-width:2\" />\n",
       "  <line x1=\"0\" y1=\"72\" x2=\"60\" y2=\"72\" />\n",
       "  <line x1=\"0\" y1=\"120\" x2=\"60\" y2=\"120\" style=\"stroke-width:2\" />\n",
       "\n",
       "  <!-- Vertical lines -->\n",
       "  <line x1=\"0\" y1=\"0\" x2=\"0\" y2=\"120\" style=\"stroke-width:2\" />\n",
       "  <line x1=\"45\" y1=\"0\" x2=\"45\" y2=\"120\" />\n",
       "  <line x1=\"60\" y1=\"0\" x2=\"60\" y2=\"120\" style=\"stroke-width:2\" />\n",
       "\n",
       "  <!-- Colored Rectangle -->\n",
       "  <polygon points=\"0.000000,0.000000 60.000000,0.000000 60.000000,120.000000 0.000000,120.000000\" style=\"fill:#ECB172A0;stroke-width:0\"/>\n",
       "\n",
       "  <!-- Text -->\n",
       "  <text x=\"30.000000\" y=\"140.000000\" font-size=\"1.0rem\" font-weight=\"100\" text-anchor=\"middle\" >10000</text>\n",
       "  <text x=\"80.000000\" y=\"60.000000\" font-size=\"1.0rem\" font-weight=\"100\" text-anchor=\"middle\" transform=\"rotate(-90,80.000000,60.000000)\">20000</text>\n",
       "</svg>\n",
       "</td>\n",
       "</tr>\n",
       "</table>"
      ],
      "text/plain": [
       "dask.array<rechunk-merge, shape=(20000, 10000), dtype=int8, chunksize=(12000, 7500), chunktype=numpy.ndarray>"
      ]
     },
     "execution_count": 38,
     "metadata": {},
     "output_type": "execute_result"
    }
   ],
   "source": [
    "snp"
   ]
  },
  {
   "cell_type": "code",
   "execution_count": 39,
   "metadata": {},
   "outputs": [
    {
     "data": {
      "text/html": [
       "<table>\n",
       "<tr>\n",
       "<td>\n",
       "<table>\n",
       "  <thead>\n",
       "    <tr><td> </td><th> Array </th><th> Chunk </th></tr>\n",
       "  </thead>\n",
       "  <tbody>\n",
       "\n",
       "    <tr><th> Shape </th><td> (20000, 10000) </td> <td> (20000, 10000) </td></tr>\n",
       "    <tr><th> Count </th><td> 1 Tasks </td><td> 1 Chunks </td></tr>\n",
       "    <tr><th> Type </th><td> float64 </td><td> sparse.COO </td></tr>\n",
       "  </tbody>\n",
       "</table>\n",
       "</td>\n",
       "<td>\n",
       "<svg width=\"110\" height=\"170\" style=\"stroke:rgb(0,0,0);stroke-width:1\" >\n",
       "\n",
       "  <!-- Horizontal lines -->\n",
       "  <line x1=\"0\" y1=\"0\" x2=\"60\" y2=\"0\" style=\"stroke-width:2\" />\n",
       "  <line x1=\"0\" y1=\"120\" x2=\"60\" y2=\"120\" style=\"stroke-width:2\" />\n",
       "\n",
       "  <!-- Vertical lines -->\n",
       "  <line x1=\"0\" y1=\"0\" x2=\"0\" y2=\"120\" style=\"stroke-width:2\" />\n",
       "  <line x1=\"60\" y1=\"0\" x2=\"60\" y2=\"120\" style=\"stroke-width:2\" />\n",
       "\n",
       "  <!-- Colored Rectangle -->\n",
       "  <polygon points=\"0.000000,0.000000 60.000000,0.000000 60.000000,120.000000 0.000000,120.000000\" style=\"fill:#ECB172A0;stroke-width:0\"/>\n",
       "\n",
       "  <!-- Text -->\n",
       "  <text x=\"30.000000\" y=\"140.000000\" font-size=\"1.0rem\" font-weight=\"100\" text-anchor=\"middle\" >10000</text>\n",
       "  <text x=\"80.000000\" y=\"60.000000\" font-size=\"1.0rem\" font-weight=\"100\" text-anchor=\"middle\" transform=\"rotate(-90,80.000000,60.000000)\">20000</text>\n",
       "</svg>\n",
       "</td>\n",
       "</tr>\n",
       "</table>"
      ],
      "text/plain": [
       "dask.array<array, shape=(20000, 10000), dtype=float64, chunksize=(20000, 10000), chunktype=sparse.COO>"
      ]
     },
     "execution_count": 39,
     "metadata": {},
     "output_type": "execute_result"
    }
   ],
   "source": [
    "mask"
   ]
  },
  {
   "cell_type": "markdown",
   "metadata": {},
   "source": [
    "Therefore if we compute mask, we can see its memory usage. It is only 50Kb"
   ]
  },
  {
   "cell_type": "code",
   "execution_count": 40,
   "metadata": {},
   "outputs": [
    {
     "data": {
      "text/html": [
       "<table><tbody><tr><th style=\"text-align: left\">Format</th><td style=\"text-align: left\">coo</td></tr><tr><th style=\"text-align: left\">Data Type</th><td style=\"text-align: left\">float64</td></tr><tr><th style=\"text-align: left\">Shape</th><td style=\"text-align: left\">(20000, 10000)</td></tr><tr><th style=\"text-align: left\">nnz</th><td style=\"text-align: left\">2072</td></tr><tr><th style=\"text-align: left\">Density</th><td style=\"text-align: left\">1.036e-05</td></tr><tr><th style=\"text-align: left\">Read-only</th><td style=\"text-align: left\">True</td></tr><tr><th style=\"text-align: left\">Size</th><td style=\"text-align: left\">48.6K</td></tr><tr><th style=\"text-align: left\">Storage ratio</th><td style=\"text-align: left\">0.0</td></tr></tbody></table>"
      ],
      "text/plain": [
       "<COO: shape=(20000, 10000), dtype=float64, nnz=2072, fill_value=0.0>"
      ]
     },
     "execution_count": 40,
     "metadata": {},
     "output_type": "execute_result"
    }
   ],
   "source": [
    "mask.compute()"
   ]
  },
  {
   "cell_type": "markdown",
   "metadata": {},
   "source": [
    "## Compare it to a Densely Masked Array\n",
    "\n",
    "We can replace all NaN values of Array with 0 and add a fill_value. However, this limits us to a constant fill value "
   ]
  },
  {
   "cell_type": "code",
   "execution_count": 50,
   "metadata": {},
   "outputs": [
    {
     "data": {
      "text/html": [
       "<table>\n",
       "<tr>\n",
       "<td>\n",
       "<table>\n",
       "  <thead>\n",
       "    <tr><td> </td><th> Array </th><th> Chunk </th></tr>\n",
       "  </thead>\n",
       "  <tbody>\n",
       "    <tr><th> Bytes </th><td> 1.60 GB </td> <td> 80.00 MB </td></tr>\n",
       "    <tr><th> Shape </th><td> (20000, 10000) </td> <td> (4000, 2500) </td></tr>\n",
       "    <tr><th> Count </th><td> 140 Tasks </td><td> 20 Chunks </td></tr>\n",
       "    <tr><th> Type </th><td> float64 </td><td> numpy.MaskedArray </td></tr>\n",
       "  </tbody>\n",
       "</table>\n",
       "</td>\n",
       "<td>\n",
       "<svg width=\"110\" height=\"170\" style=\"stroke:rgb(0,0,0);stroke-width:1\" >\n",
       "\n",
       "  <!-- Horizontal lines -->\n",
       "  <line x1=\"0\" y1=\"0\" x2=\"60\" y2=\"0\" style=\"stroke-width:2\" />\n",
       "  <line x1=\"0\" y1=\"24\" x2=\"60\" y2=\"24\" />\n",
       "  <line x1=\"0\" y1=\"48\" x2=\"60\" y2=\"48\" />\n",
       "  <line x1=\"0\" y1=\"72\" x2=\"60\" y2=\"72\" />\n",
       "  <line x1=\"0\" y1=\"96\" x2=\"60\" y2=\"96\" />\n",
       "  <line x1=\"0\" y1=\"120\" x2=\"60\" y2=\"120\" style=\"stroke-width:2\" />\n",
       "\n",
       "  <!-- Vertical lines -->\n",
       "  <line x1=\"0\" y1=\"0\" x2=\"0\" y2=\"120\" style=\"stroke-width:2\" />\n",
       "  <line x1=\"15\" y1=\"0\" x2=\"15\" y2=\"120\" />\n",
       "  <line x1=\"30\" y1=\"0\" x2=\"30\" y2=\"120\" />\n",
       "  <line x1=\"45\" y1=\"0\" x2=\"45\" y2=\"120\" />\n",
       "  <line x1=\"60\" y1=\"0\" x2=\"60\" y2=\"120\" style=\"stroke-width:2\" />\n",
       "\n",
       "  <!-- Colored Rectangle -->\n",
       "  <polygon points=\"0.000000,0.000000 60.000000,0.000000 60.000000,120.000000 0.000000,120.000000\" style=\"fill:#ECB172A0;stroke-width:0\"/>\n",
       "\n",
       "  <!-- Text -->\n",
       "  <text x=\"30.000000\" y=\"140.000000\" font-size=\"1.0rem\" font-weight=\"100\" text-anchor=\"middle\" >10000</text>\n",
       "  <text x=\"80.000000\" y=\"60.000000\" font-size=\"1.0rem\" font-weight=\"100\" text-anchor=\"middle\" transform=\"rotate(-90,80.000000,60.000000)\">20000</text>\n",
       "</svg>\n",
       "</td>\n",
       "</tr>\n",
       "</table>"
      ],
      "text/plain": [
       "dask.array<_set_fill_value, shape=(20000, 10000), dtype=float64, chunksize=(4000, 2500), chunktype=numpy.MaskedArray>"
      ]
     },
     "execution_count": 50,
     "metadata": {},
     "output_type": "execute_result"
    }
   ],
   "source": [
    "ma_array = da.ma.masked_invalid(array)\n",
    "da.ma.set_fill_value(ma_array, 1.2324)\n",
    "ma_array"
   ]
  },
  {
   "cell_type": "markdown",
   "metadata": {},
   "source": [
    "If we compute a section of `ma_array` we can see how it is stored."
   ]
  },
  {
   "cell_type": "code",
   "execution_count": 51,
   "metadata": {},
   "outputs": [
    {
     "data": {
      "text/plain": [
       "masked_array(\n",
       "  data=[[2.0, 1.0, 2.0, 0.0, 2.0],\n",
       "        [2.0, 1.0, 1.0, 2.0, 0.0],\n",
       "        [0.0, 0.0, 1.0, 2.0, 0.0],\n",
       "        [1.0, 0.0, 2.0, 1.0, 2.0],\n",
       "        [1.0, 0.0, 1.0, 1.0, 1.0]],\n",
       "  mask=[[False, False, False, False, False],\n",
       "        [False, False, False, False, False],\n",
       "        [False, False, False, False, False],\n",
       "        [False, False, False, False, False],\n",
       "        [False, False, False, False, False]],\n",
       "  fill_value=1.2324)"
      ]
     },
     "execution_count": 51,
     "metadata": {},
     "output_type": "execute_result"
    }
   ],
   "source": [
    "ma_array[0:5, 0:5].compute()"
   ]
  },
  {
   "cell_type": "markdown",
   "metadata": {},
   "source": [
    "The data is stored as a dense array similar to `snp_array`. However, the mask is a dense array as well that is quite expensive to store."
   ]
  },
  {
   "cell_type": "markdown",
   "metadata": {},
   "source": [
    "# Check MatrixMultiplication speed\n",
    "(We persist both arrays to have a fair comparison)"
   ]
  },
  {
   "cell_type": "code",
   "execution_count": 8,
   "metadata": {},
   "outputs": [],
   "source": [
    "snp_array = snp_array.persist()"
   ]
  },
  {
   "cell_type": "code",
   "execution_count": 52,
   "metadata": {},
   "outputs": [],
   "source": [
    "ma_array = ma_array.persist()"
   ]
  },
  {
   "cell_type": "code",
   "execution_count": 53,
   "metadata": {},
   "outputs": [],
   "source": [
    "y = np.random.randn(P, 2)"
   ]
  },
  {
   "cell_type": "code",
   "execution_count": 54,
   "metadata": {},
   "outputs": [
    {
     "name": "stdout",
     "output_type": "stream",
     "text": [
      "394 ms ± 14.3 ms per loop (mean ± std. dev. of 7 runs, 1 loop each)\n"
     ]
    }
   ],
   "source": [
    "%timeit snp_array.dot(y).compute()"
   ]
  },
  {
   "cell_type": "code",
   "execution_count": 55,
   "metadata": {},
   "outputs": [
    {
     "name": "stdout",
     "output_type": "stream",
     "text": [
      "497 ms ± 8.17 ms per loop (mean ± std. dev. of 7 runs, 1 loop each)\n"
     ]
    }
   ],
   "source": [
    "%timeit ma_array.dot(y).compute()"
   ]
  },
  {
   "cell_type": "markdown",
   "metadata": {},
   "source": [
    "The `snp_array` taking less that twice the time as array is extremely impressive when you consider that:\n",
    "1. `snp_array` is stored as 1 byte integers and a sparse mask while `array` is stored as a masked floating array. That means `snp_array` takes less than 1/8th the memory as `array`.\n",
    "2. `snp_array` is also centered and scaled (0 mean and unit std) while `array` does not have these properties."
   ]
  },
  {
   "cell_type": "markdown",
   "metadata": {},
   "source": [
    "# Save and re-Load Array\n",
    "With large arrays where running `make_snp_array` is expensive, or the original `array` is to large to hold in memory with `array.persist()`. We can save the array to disk, which will create `snp_array` in sections, and  then reload it in the proper format. This is beneficial because:\n",
    "1. We can save the 1 byte SNP section of `snp_array` in a format that is better chunked for computation speed to be directly loaded. If this was not the case and `array` was converted to `snp_array` using `make_snp_array`, `make_snp_array` would not pre-compute `snp_array` but instead create the 'instructions' for `snp_array` to be computed in sections when needed. Therefore, instead of computing `snp_array` in sections on demand from the original location, which is slower. `snp_array` can be computed and saved in sections to a new location. This will result in better performance for large arrays as no intermediate computing steps must take place. Instead, it just has to be read from memory similar to how `array` would be because it is so large.\n",
    "2. In addition, this prevents the need to recreate the MASK of `snp_array` using the function `make_snp_array` (which is precomputed and can be quite costly)."
   ]
  },
  {
   "cell_type": "code",
   "execution_count": 56,
   "metadata": {},
   "outputs": [],
   "source": [
    "loc = 'testing_array' # Will save the array in a folder called 'testing_array'"
   ]
  },
  {
   "cell_type": "code",
   "execution_count": 57,
   "metadata": {},
   "outputs": [],
   "source": [
    "save_array(snp_array, file=loc)"
   ]
  },
  {
   "cell_type": "markdown",
   "metadata": {},
   "source": [
    "We can then reload in the array (in sections on demand)."
   ]
  },
  {
   "cell_type": "code",
   "execution_count": 58,
   "metadata": {},
   "outputs": [],
   "source": [
    "snp_loaded_array = load_array_from_disk('testing_array/')"
   ]
  },
  {
   "cell_type": "code",
   "execution_count": 59,
   "metadata": {},
   "outputs": [
    {
     "name": "stdout",
     "output_type": "stream",
     "text": [
      "681 ms ± 7.11 ms per loop (mean ± std. dev. of 7 runs, 1 loop each)\n"
     ]
    }
   ],
   "source": [
    "%timeit snp_loaded_array.dot(y).compute()"
   ]
  },
  {
   "cell_type": "markdown",
   "metadata": {},
   "source": [
    "And persist it (to fully load it into memory) to see if we can gain any speed bonus"
   ]
  },
  {
   "cell_type": "code",
   "execution_count": 60,
   "metadata": {},
   "outputs": [],
   "source": [
    "snp_loaded_array_persist = snp_loaded_array.persist()"
   ]
  },
  {
   "cell_type": "code",
   "execution_count": 61,
   "metadata": {},
   "outputs": [
    {
     "name": "stdout",
     "output_type": "stream",
     "text": [
      "376 ms ± 8.37 ms per loop (mean ± std. dev. of 7 runs, 1 loop each)\n"
     ]
    }
   ],
   "source": [
    "%timeit snp_loaded_array_persist.dot(y).compute()"
   ]
  },
  {
   "cell_type": "code",
   "execution_count": null,
   "metadata": {},
   "outputs": [],
   "source": []
  }
 ],
 "metadata": {
  "kernelspec": {
   "display_name": "Python 3",
   "language": "python",
   "name": "python3"
  },
  "language_info": {
   "codemirror_mode": {
    "name": "ipython",
    "version": 3
   },
   "file_extension": ".py",
   "mimetype": "text/x-python",
   "name": "python",
   "nbconvert_exporter": "python",
   "pygments_lexer": "ipython3",
   "version": "3.7.3"
  },
  "pycharm": {
   "stem_cell": {
    "cell_type": "raw",
    "source": [],
    "metadata": {
     "collapsed": false
    }
   }
  }
 },
 "nbformat": 4,
 "nbformat_minor": 4
}