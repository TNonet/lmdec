{
 "cells": [
  {
   "cell_type": "code",
   "execution_count": 1,
   "metadata": {},
   "outputs": [],
   "source": [
    "from dask.distributed import Client, LocalCluster\n",
    "import dask.array as da\n",
    "from lmdec import PowerMethod"
   ]
  },
  {
   "cell_type": "markdown",
   "metadata": {},
   "source": [
    "# Running Power Method on a Local Cluster \n",
    "\n",
    "This is no faster than running it without a Local Cluster but demonstrate the fact that lmdec can handle being run on a cluster."
   ]
  },
  {
   "cell_type": "code",
   "execution_count": 4,
   "metadata": {},
   "outputs": [],
   "source": [
    "cluster = LocalCluster(n_workers=4, \n",
    "                       threads_per_worker=1,\n",
    "                       memory_limit='3 GB')\n",
    "client = Client(cluster)"
   ]
  },
  {
   "cell_type": "markdown",
   "metadata": {},
   "source": [
    "The operations and the workers can be visualized in the Dashboard in the client below."
   ]
  },
  {
   "cell_type": "code",
   "execution_count": 3,
   "metadata": {},
   "outputs": [
    {
     "data": {
      "text/html": [
       "<table style=\"border: 2px solid white;\">\n",
       "<tr>\n",
       "<td style=\"vertical-align: top; border: 0px solid white\">\n",
       "<h3 style=\"text-align: left;\">Client</h3>\n",
       "<ul style=\"text-align: left; list-style: none; margin: 0; padding: 0;\">\n",
       "  <li><b>Scheduler: </b>tcp://127.0.0.1:57935</li>\n",
       "  <li><b>Dashboard: </b><a href='http://127.0.0.1:8787/status' target='_blank'>http://127.0.0.1:8787/status</a>\n",
       "</ul>\n",
       "</td>\n",
       "<td style=\"vertical-align: top; border: 0px solid white\">\n",
       "<h3 style=\"text-align: left;\">Cluster</h3>\n",
       "<ul style=\"text-align: left; list-style:none; margin: 0; padding: 0;\">\n",
       "  <li><b>Workers: </b>4</li>\n",
       "  <li><b>Cores: </b>4</li>\n",
       "  <li><b>Memory: </b>12.00 GB</li>\n",
       "</ul>\n",
       "</td>\n",
       "</tr>\n",
       "</table>"
      ],
      "text/plain": [
       "<Client: 'tcp://127.0.0.1:57935' processes=4 threads=4, memory=12.00 GB>"
      ]
     },
     "execution_count": 3,
     "metadata": {},
     "output_type": "execute_result"
    }
   ],
   "source": [
    "client"
   ]
  },
  {
   "cell_type": "code",
   "execution_count": 5,
   "metadata": {},
   "outputs": [
    {
     "data": {
      "text/html": [
       "<table>\n",
       "<tr>\n",
       "<td>\n",
       "<table>\n",
       "  <thead>\n",
       "    <tr><td> </td><th> Array </th><th> Chunk </th></tr>\n",
       "  </thead>\n",
       "  <tbody>\n",
       "    <tr><th> Bytes </th><td> 16.00 GB </td> <td> 128.00 MB </td></tr>\n",
       "    <tr><th> Shape </th><td> (100000, 20000) </td> <td> (4000, 4000) </td></tr>\n",
       "    <tr><th> Count </th><td> 125 Tasks </td><td> 125 Chunks </td></tr>\n",
       "    <tr><th> Type </th><td> float64 </td><td> numpy.ndarray </td></tr>\n",
       "  </tbody>\n",
       "</table>\n",
       "</td>\n",
       "<td>\n",
       "<svg width=\"92\" height=\"170\" style=\"stroke:rgb(0,0,0);stroke-width:1\" >\n",
       "\n",
       "  <!-- Horizontal lines -->\n",
       "  <line x1=\"0\" y1=\"0\" x2=\"42\" y2=\"0\" style=\"stroke-width:2\" />\n",
       "  <line x1=\"0\" y1=\"4\" x2=\"42\" y2=\"4\" />\n",
       "  <line x1=\"0\" y1=\"9\" x2=\"42\" y2=\"9\" />\n",
       "  <line x1=\"0\" y1=\"14\" x2=\"42\" y2=\"14\" />\n",
       "  <line x1=\"0\" y1=\"19\" x2=\"42\" y2=\"19\" />\n",
       "  <line x1=\"0\" y1=\"24\" x2=\"42\" y2=\"24\" />\n",
       "  <line x1=\"0\" y1=\"28\" x2=\"42\" y2=\"28\" />\n",
       "  <line x1=\"0\" y1=\"33\" x2=\"42\" y2=\"33\" />\n",
       "  <line x1=\"0\" y1=\"38\" x2=\"42\" y2=\"38\" />\n",
       "  <line x1=\"0\" y1=\"43\" x2=\"42\" y2=\"43\" />\n",
       "  <line x1=\"0\" y1=\"48\" x2=\"42\" y2=\"48\" />\n",
       "  <line x1=\"0\" y1=\"52\" x2=\"42\" y2=\"52\" />\n",
       "  <line x1=\"0\" y1=\"57\" x2=\"42\" y2=\"57\" />\n",
       "  <line x1=\"0\" y1=\"62\" x2=\"42\" y2=\"62\" />\n",
       "  <line x1=\"0\" y1=\"67\" x2=\"42\" y2=\"67\" />\n",
       "  <line x1=\"0\" y1=\"72\" x2=\"42\" y2=\"72\" />\n",
       "  <line x1=\"0\" y1=\"76\" x2=\"42\" y2=\"76\" />\n",
       "  <line x1=\"0\" y1=\"81\" x2=\"42\" y2=\"81\" />\n",
       "  <line x1=\"0\" y1=\"86\" x2=\"42\" y2=\"86\" />\n",
       "  <line x1=\"0\" y1=\"91\" x2=\"42\" y2=\"91\" />\n",
       "  <line x1=\"0\" y1=\"96\" x2=\"42\" y2=\"96\" />\n",
       "  <line x1=\"0\" y1=\"100\" x2=\"42\" y2=\"100\" />\n",
       "  <line x1=\"0\" y1=\"105\" x2=\"42\" y2=\"105\" />\n",
       "  <line x1=\"0\" y1=\"110\" x2=\"42\" y2=\"110\" />\n",
       "  <line x1=\"0\" y1=\"115\" x2=\"42\" y2=\"115\" />\n",
       "  <line x1=\"0\" y1=\"120\" x2=\"42\" y2=\"120\" style=\"stroke-width:2\" />\n",
       "\n",
       "  <!-- Vertical lines -->\n",
       "  <line x1=\"0\" y1=\"0\" x2=\"0\" y2=\"120\" style=\"stroke-width:2\" />\n",
       "  <line x1=\"8\" y1=\"0\" x2=\"8\" y2=\"120\" />\n",
       "  <line x1=\"16\" y1=\"0\" x2=\"16\" y2=\"120\" />\n",
       "  <line x1=\"25\" y1=\"0\" x2=\"25\" y2=\"120\" />\n",
       "  <line x1=\"33\" y1=\"0\" x2=\"33\" y2=\"120\" />\n",
       "  <line x1=\"42\" y1=\"0\" x2=\"42\" y2=\"120\" style=\"stroke-width:2\" />\n",
       "\n",
       "  <!-- Colored Rectangle -->\n",
       "  <polygon points=\"0.000000,0.000000 42.009890,0.000000 42.009890,120.000000 0.000000,120.000000\" style=\"fill:#ECB172A0;stroke-width:0\"/>\n",
       "\n",
       "  <!-- Text -->\n",
       "  <text x=\"21.004945\" y=\"140.000000\" font-size=\"1.0rem\" font-weight=\"100\" text-anchor=\"middle\" >20000</text>\n",
       "  <text x=\"62.009890\" y=\"60.000000\" font-size=\"1.0rem\" font-weight=\"100\" text-anchor=\"middle\" transform=\"rotate(-90,62.009890,60.000000)\">100000</text>\n",
       "</svg>\n",
       "</td>\n",
       "</tr>\n",
       "</table>"
      ],
      "text/plain": [
       "dask.array<random_sample, shape=(100000, 20000), dtype=float64, chunksize=(4000, 4000), chunktype=numpy.ndarray>"
      ]
     },
     "execution_count": 5,
     "metadata": {},
     "output_type": "execute_result"
    }
   ],
   "source": [
    "a = da.random.random(size=(100000,20000))\n",
    "a"
   ]
  },
  {
   "cell_type": "markdown",
   "metadata": {},
   "source": [
    "## All lmdec operations will naturally interface with a Cluster.\n",
    "\n",
    "The array `a` is too large to store in the cluster and thus must be \"created\" on demand. Therefore, there is no need to \"scatter\" `a` over the cluster."
   ]
  },
  {
   "cell_type": "code",
   "execution_count": 6,
   "metadata": {},
   "outputs": [],
   "source": [
    "PM = PowerMethod(tol=1e-9, max_iter=4)"
   ]
  },
  {
   "cell_type": "code",
   "execution_count": 7,
   "metadata": {},
   "outputs": [
    {
     "name": "stderr",
     "output_type": "stream",
     "text": [
      "/Users/tnonet/Documents/GitHub/lmdec/lmdec/decomp/iter_methods.py:351: UserWarning: Did not converge. \n",
      "Time Usage : 217.07s of 1000s (Time Limit) \n",
      "Iteration Usage : 4 of 4 (Iteration Limit)\n",
      "  .format(self.time, self.time_limit, self.num_iter, self.max_iter))\n"
     ]
    }
   ],
   "source": [
    "U, S, V = PM.svd(a)"
   ]
  },
  {
   "cell_type": "markdown",
   "metadata": {},
   "source": [
    "## If being used on a cluster with enough memory to hold the array in memory\n",
    "\n",
    "We can submit the `PM.svd` function to the cluster and scatter the array on the cluster.\n",
    "\n",
    "For a guide on using clusters and Dask see:\n",
    "https://docs.dask.org/en/latest/setup.html"
   ]
  },
  {
   "cell_type": "code",
   "execution_count": 11,
   "metadata": {},
   "outputs": [
    {
     "data": {
      "text/html": [
       "<table>\n",
       "<tr>\n",
       "<td>\n",
       "<table>\n",
       "  <thead>\n",
       "    <tr><td> </td><th> Array </th><th> Chunk </th></tr>\n",
       "  </thead>\n",
       "  <tbody>\n",
       "    <tr><th> Bytes </th><td> 3.20 GB </td> <td> 128.00 MB </td></tr>\n",
       "    <tr><th> Shape </th><td> (20000, 20000) </td> <td> (4000, 4000) </td></tr>\n",
       "    <tr><th> Count </th><td> 25 Tasks </td><td> 25 Chunks </td></tr>\n",
       "    <tr><th> Type </th><td> float64 </td><td> numpy.ndarray </td></tr>\n",
       "  </tbody>\n",
       "</table>\n",
       "</td>\n",
       "<td>\n",
       "<svg width=\"170\" height=\"170\" style=\"stroke:rgb(0,0,0);stroke-width:1\" >\n",
       "\n",
       "  <!-- Horizontal lines -->\n",
       "  <line x1=\"0\" y1=\"0\" x2=\"120\" y2=\"0\" style=\"stroke-width:2\" />\n",
       "  <line x1=\"0\" y1=\"24\" x2=\"120\" y2=\"24\" />\n",
       "  <line x1=\"0\" y1=\"48\" x2=\"120\" y2=\"48\" />\n",
       "  <line x1=\"0\" y1=\"72\" x2=\"120\" y2=\"72\" />\n",
       "  <line x1=\"0\" y1=\"96\" x2=\"120\" y2=\"96\" />\n",
       "  <line x1=\"0\" y1=\"120\" x2=\"120\" y2=\"120\" style=\"stroke-width:2\" />\n",
       "\n",
       "  <!-- Vertical lines -->\n",
       "  <line x1=\"0\" y1=\"0\" x2=\"0\" y2=\"120\" style=\"stroke-width:2\" />\n",
       "  <line x1=\"24\" y1=\"0\" x2=\"24\" y2=\"120\" />\n",
       "  <line x1=\"48\" y1=\"0\" x2=\"48\" y2=\"120\" />\n",
       "  <line x1=\"72\" y1=\"0\" x2=\"72\" y2=\"120\" />\n",
       "  <line x1=\"96\" y1=\"0\" x2=\"96\" y2=\"120\" />\n",
       "  <line x1=\"120\" y1=\"0\" x2=\"120\" y2=\"120\" style=\"stroke-width:2\" />\n",
       "\n",
       "  <!-- Colored Rectangle -->\n",
       "  <polygon points=\"0.000000,0.000000 120.000000,0.000000 120.000000,120.000000 0.000000,120.000000\" style=\"fill:#ECB172A0;stroke-width:0\"/>\n",
       "\n",
       "  <!-- Text -->\n",
       "  <text x=\"60.000000\" y=\"140.000000\" font-size=\"1.0rem\" font-weight=\"100\" text-anchor=\"middle\" >20000</text>\n",
       "  <text x=\"140.000000\" y=\"60.000000\" font-size=\"1.0rem\" font-weight=\"100\" text-anchor=\"middle\" transform=\"rotate(-90,140.000000,60.000000)\">20000</text>\n",
       "</svg>\n",
       "</td>\n",
       "</tr>\n",
       "</table>"
      ],
      "text/plain": [
       "dask.array<random_sample, shape=(20000, 20000), dtype=float64, chunksize=(4000, 4000), chunktype=numpy.ndarray>"
      ]
     },
     "execution_count": 11,
     "metadata": {},
     "output_type": "execute_result"
    }
   ],
   "source": [
    "b = da.random.random(size=(20000,20000))\n",
    "b"
   ]
  },
  {
   "cell_type": "markdown",
   "metadata": {},
   "source": [
    "Scatter the array to the cluster"
   ]
  },
  {
   "cell_type": "code",
   "execution_count": 5,
   "metadata": {},
   "outputs": [],
   "source": [
    "future = client.scatter(b)"
   ]
  },
  {
   "cell_type": "markdown",
   "metadata": {},
   "source": [
    "Submit the job to a cluster.\n",
    "\n",
    "Once the job is submitted, it can be observed through the dashboard linked above."
   ]
  },
  {
   "cell_type": "code",
   "execution_count": 6,
   "metadata": {},
   "outputs": [],
   "source": [
    "PM = PowerMethod(tol=1e-9, max_iter=4)"
   ]
  },
  {
   "cell_type": "code",
   "execution_count": 7,
   "metadata": {},
   "outputs": [],
   "source": [
    "USV = client.submit(PM.svd, future, transpose=True)"
   ]
  },
  {
   "cell_type": "markdown",
   "metadata": {},
   "source": [
    "Get the values from the cluster"
   ]
  },
  {
   "cell_type": "code",
   "execution_count": 8,
   "metadata": {},
   "outputs": [],
   "source": [
    "U, S, V = USV.result()"
   ]
  },
  {
   "cell_type": "code",
   "execution_count": 9,
   "metadata": {},
   "outputs": [
    {
     "data": {
      "text/plain": [
       "array([[ 0.00047532,  0.00091697,  0.00380269, ...,  0.00557026,\n",
       "         0.00705091,  0.0088292 ],\n",
       "       [-0.01440481, -0.00205058,  0.00205909, ..., -0.00648305,\n",
       "         0.00540328,  0.00060134],\n",
       "       [-0.00367933,  0.00736413,  0.01542387, ..., -0.00417257,\n",
       "        -0.0041739 , -0.00996514],\n",
       "       ...,\n",
       "       [-0.00328265, -0.00365813,  0.00553923, ..., -0.00247538,\n",
       "        -0.01061328, -0.00020978],\n",
       "       [ 0.0031228 , -0.01090509,  0.00714572, ..., -0.01147071,\n",
       "        -0.00598133, -0.00072704],\n",
       "       [-0.00093447,  0.0015288 ,  0.00431711, ...,  0.00889683,\n",
       "        -0.00052574,  0.00434754]])"
      ]
     },
     "execution_count": 9,
     "metadata": {},
     "output_type": "execute_result"
    }
   ],
   "source": [
    "U.compute()"
   ]
  }
 ],
 "metadata": {
  "kernelspec": {
   "display_name": "Python 3",
   "language": "python",
   "name": "python3"
  },
  "language_info": {
   "codemirror_mode": {
    "name": "ipython",
    "version": 3
   },
   "file_extension": ".py",
   "mimetype": "text/x-python",
   "name": "python",
   "nbconvert_exporter": "python",
   "pygments_lexer": "ipython3",
   "version": "3.7.3"
  },
  "pycharm": {
   "stem_cell": {
    "cell_type": "raw",
    "source": [],
    "metadata": {
     "collapsed": false
    }
   }
  }
 },
 "nbformat": 4,
 "nbformat_minor": 4
}